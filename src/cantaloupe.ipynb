{
 "cells": [
  {
   "cell_type": "markdown",
   "metadata": {
    "collapsed": true
   },
   "source": [
    "# 1. Data acquisition"
   ]
  },
  {
   "cell_type": "markdown",
   "metadata": {},
   "source": [
    "## Pfam database"
   ]
  },
  {
   "cell_type": "code",
   "execution_count": null,
   "metadata": {
    "collapsed": false
   },
   "outputs": [],
   "source": [
    "# download and extract pfam database\n",
    "! wget -P ../database/pfam ftp://ftp.ebi.ac.uk/pub/databases/Pfam/releases/Pfam30.0/Pfam-A.hmm.gz\n",
    "! gzip -dvf ../database/pfam/Pfam-A.hmm.gz"
   ]
  },
  {
   "cell_type": "markdown",
   "metadata": {},
   "source": [
    "## Protein sequences"
   ]
  },
  {
   "cell_type": "code",
   "execution_count": null,
   "metadata": {
    "collapsed": false
   },
   "outputs": [],
   "source": [
    "# 50 cancer protein sequences from UniProtKB\n",
    "small_fasta = '../database/sequence/small.fasta'\n",
    "\n",
    "# 100 cancer protein sequences from UniProtKB\n",
    "medium_fasta = '../database/sequence/medium.fasta'\n",
    "\n",
    "# 250 cancer protein sequences from UniProtKB\n",
    "large_fasta = '../database/sequence/large.fasta'"
   ]
  },
  {
   "cell_type": "markdown",
   "metadata": {},
   "source": [
    "# 2. Data preparation"
   ]
  },
  {
   "cell_type": "markdown",
   "metadata": {},
   "source": [
    "## Pfam database"
   ]
  },
  {
   "cell_type": "code",
   "execution_count": null,
   "metadata": {
    "collapsed": false
   },
   "outputs": [],
   "source": [
    "# hmmpress\n",
    "! hmmpress ../database/pfam/Pfam-A.hmm"
   ]
  },
  {
   "cell_type": "markdown",
   "metadata": {},
   "source": [
    "## Sequence database"
   ]
  },
  {
   "cell_type": "code",
   "execution_count": 1,
   "metadata": {
    "collapsed": false
   },
   "outputs": [],
   "source": [
    "# shell script\n",
    "! bash prepare_seqdb.sh ../database/sequence/small.fasta ../input/small.fasta\n",
    "! bash prepare_seqdb.sh ../database/sequence/medium.fasta ../input/medium.fasta\n",
    "! bash prepare_seqdb.sh ../database/sequence/large.fasta ../input/large.fasta"
   ]
  },
  {
   "cell_type": "markdown",
   "metadata": {},
   "source": [
    "# 3. Data analysis"
   ]
  },
  {
   "cell_type": "code",
   "execution_count": 41,
   "metadata": {
    "collapsed": false
   },
   "outputs": [
    {
     "name": "stdout",
     "output_type": "stream",
     "text": [
      "0:06:21.835106\n"
     ]
    }
   ],
   "source": [
    "import datetime\n",
    "a = datetime.datetime.now()\n",
    "\n",
    "# convert sequence database to Spark RDD\n",
    "SEQ_DB = \"file:///home/cloudera/cantaloupe/input/large.fasta\"\n",
    "data = sc.textFile(SEQ_DB)\n",
    "\n",
    "# pipe Spark RDD to hmmscan\n",
    "scriptPath = \"/home/cloudera/cantaloupe/src/hmmer.sh\"\n",
    "pipeRDD = data.pipe(scriptPath)\n",
    "\n",
    "# collect result\n",
    "pipeRDD.collect()\n",
    "\n",
    "b = datetime.datetime.now()\n",
    "print(b-a)"
   ]
  },
  {
   "cell_type": "markdown",
   "metadata": {},
   "source": [
    "# 4. Report"
   ]
  },
  {
   "cell_type": "code",
   "execution_count": null,
   "metadata": {
    "collapsed": false
   },
   "outputs": [],
   "source": [
    "! cat ../output/*.txt"
   ]
  }
 ],
 "metadata": {
  "kernelspec": {
   "display_name": "Python 2",
   "language": "python",
   "name": "python2"
  },
  "language_info": {
   "codemirror_mode": {
    "name": "ipython",
    "version": 2
   },
   "file_extension": ".py",
   "mimetype": "text/x-python",
   "name": "python",
   "nbconvert_exporter": "python",
   "pygments_lexer": "ipython2",
   "version": "2.7.11"
  }
 },
 "nbformat": 4,
 "nbformat_minor": 0
}
