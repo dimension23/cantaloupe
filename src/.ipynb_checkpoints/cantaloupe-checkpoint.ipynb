{
 "cells": [
  {
   "cell_type": "code",
   "execution_count": null,
   "metadata": {
    "collapsed": true
   },
   "outputs": [],
   "source": [
    "# 1. Data acquisition"
   ]
  },
  {
   "cell_type": "markdown",
   "metadata": {},
   "source": [
    "## Pfam database"
   ]
  },
  {
   "cell_type": "code",
   "execution_count": 1,
   "metadata": {
    "collapsed": false
   },
   "outputs": [
    {
     "name": "stdout",
     "output_type": "stream",
     "text": [
      "--2016-08-26 06:35:43--  ftp://ftp.ebi.ac.uk/pub/databases/Pfam/releases/Pfam30.0/Pfam-A.hmm.gz\n",
      "           => “../database/pfam/Pfam-A.hmm.gz”\n",
      "Resolving ftp.ebi.ac.uk... 193.62.192.4\n",
      "Connecting to ftp.ebi.ac.uk|193.62.192.4|:21... connected.\n",
      "Logging in as anonymous ... Logged in!\n",
      "==> SYST ... done.    ==> PWD ... done.\n",
      "==> TYPE I ... done.  ==> CWD (1) /pub/databases/Pfam/releases/Pfam30.0 ... done.\n",
      "==> SIZE Pfam-A.hmm.gz ... 254592304\n",
      "==> PASV ... done.    ==> RETR Pfam-A.hmm.gz ... done.\n",
      "Length: 254592304 (243M) (unauthoritative)\n",
      "\n",
      "100%[======================================>] 254,592,304 8.69M/s   in 28s     \n",
      "\n",
      "2016-08-26 06:36:12 (8.78 MB/s) - “../database/pfam/Pfam-A.hmm.gz” saved [254592304]\n",
      "\n",
      "../database/pfam/Pfam-A.hmm.gz:\t 81.1% -- replaced with ../database/pfam/Pfam-A.hmm\n"
     ]
    }
   ],
   "source": [
    "# download and extract pfam database\n",
    "! wget -P ../database/pfam ftp://ftp.ebi.ac.uk/pub/databases/Pfam/releases/Pfam30.0/Pfam-A.hmm.gz\n",
    "! gzip -dvf ../database/pfam/Pfam-A.hmm.gz"
   ]
  },
  {
   "cell_type": "markdown",
   "metadata": {},
   "source": [
    "## Protein sequences"
   ]
  },
  {
   "cell_type": "code",
   "execution_count": 14,
   "metadata": {
    "collapsed": false
   },
   "outputs": [],
   "source": [
    "# 25 cancer protein sequences from UniProtKB\n",
    "small_fasta = '../database/sequence/small.fasta'\n",
    "\n",
    "# 50 cancer protein sequences from UniProtKB\n",
    "medium_fasta = '../database/sequence/medium.fasta'\n",
    "\n",
    "# 250 cancer protein sequences from UniProtKB\n",
    "large_fasta = '../database/sequence/large.fasta'"
   ]
  },
  {
   "cell_type": "markdown",
   "metadata": {},
   "source": [
    "# 2. Data preparation"
   ]
  },
  {
   "cell_type": "markdown",
   "metadata": {},
   "source": [
    "## Pfam database"
   ]
  },
  {
   "cell_type": "code",
   "execution_count": 10,
   "metadata": {
    "collapsed": false
   },
   "outputs": [
    {
     "name": "stdout",
     "output_type": "stream",
     "text": [
      "Working...    done.\n",
      "Pressed and indexed 16306 HMMs (16306 names and 16306 accessions).\n",
      "Models pressed into binary file:   ../database/pfam/Pfam-A.hmm.h3m\n",
      "SSI index for binary model file:   ../database/pfam/Pfam-A.hmm.h3i\n",
      "Profiles (MSV part) pressed into:  ../database/pfam/Pfam-A.hmm.h3f\n",
      "Profiles (remainder) pressed into: ../database/pfam/Pfam-A.hmm.h3p\n"
     ]
    }
   ],
   "source": [
    "# hmmpress\n",
    "! hmmpress ../database/pfam/Pfam-A.hmm"
   ]
  },
  {
   "cell_type": "markdown",
   "metadata": {},
   "source": [
    "## Sequence database"
   ]
  },
  {
   "cell_type": "code",
   "execution_count": 15,
   "metadata": {
    "collapsed": false
   },
   "outputs": [
    {
     "name": "stdout",
     "output_type": "stream",
     "text": [
      "CPU times: user 0 ns, sys: 0 ns, total: 0 ns\n",
      "Wall time: 5.01 µs\n"
     ]
    }
   ],
   "source": [
    "%time\n",
    "# shell script\n",
    "! bash prepare_seqdb.sh ../database/sequence/small.fasta ../input/small.fasta\n",
    "! bash prepare_seqdb.sh ../database/sequence/medium.fasta ../input/medium.fasta\n",
    "! bash prepare_seqdb.sh ../database/sequence/large.fasta ../input/large.fasta"
   ]
  },
  {
   "cell_type": "markdown",
   "metadata": {},
   "source": [
    "# 3. Data analysis"
   ]
  },
  {
   "cell_type": "code",
   "execution_count": 16,
   "metadata": {
    "collapsed": false
   },
   "outputs": [
    {
     "name": "stdout",
     "output_type": "stream",
     "text": [
      "CPU times: user 0 ns, sys: 0 ns, total: 0 ns\n",
      "Wall time: 10 µs\n"
     ]
    },
    {
     "ename": "KeyboardInterrupt",
     "evalue": "",
     "output_type": "error",
     "traceback": [
      "\u001b[1;31m---------------------------------------------------------------------------\u001b[0m",
      "\u001b[1;31mKeyboardInterrupt\u001b[0m                         Traceback (most recent call last)",
      "\u001b[1;32m<ipython-input-16-8cb490e23790>\u001b[0m in \u001b[0;36m<module>\u001b[1;34m()\u001b[0m\n\u001b[0;32m      9\u001b[0m \u001b[1;33m\u001b[0m\u001b[0m\n\u001b[0;32m     10\u001b[0m \u001b[1;31m# collect result\u001b[0m\u001b[1;33m\u001b[0m\u001b[1;33m\u001b[0m\u001b[0m\n\u001b[1;32m---> 11\u001b[1;33m \u001b[0mpipeRDD\u001b[0m\u001b[1;33m.\u001b[0m\u001b[0mcollect\u001b[0m\u001b[1;33m(\u001b[0m\u001b[1;33m)\u001b[0m\u001b[1;33m\u001b[0m\u001b[0m\n\u001b[0m",
      "\u001b[1;32m/usr/lib/spark/python/pyspark/rdd.py\u001b[0m in \u001b[0;36mcollect\u001b[1;34m(self)\u001b[0m\n\u001b[0;32m    769\u001b[0m         \"\"\"\n\u001b[0;32m    770\u001b[0m         \u001b[1;32mwith\u001b[0m \u001b[0mSCCallSiteSync\u001b[0m\u001b[1;33m(\u001b[0m\u001b[0mself\u001b[0m\u001b[1;33m.\u001b[0m\u001b[0mcontext\u001b[0m\u001b[1;33m)\u001b[0m \u001b[1;32mas\u001b[0m \u001b[0mcss\u001b[0m\u001b[1;33m:\u001b[0m\u001b[1;33m\u001b[0m\u001b[0m\n\u001b[1;32m--> 771\u001b[1;33m             \u001b[0mport\u001b[0m \u001b[1;33m=\u001b[0m \u001b[0mself\u001b[0m\u001b[1;33m.\u001b[0m\u001b[0mctx\u001b[0m\u001b[1;33m.\u001b[0m\u001b[0m_jvm\u001b[0m\u001b[1;33m.\u001b[0m\u001b[0mPythonRDD\u001b[0m\u001b[1;33m.\u001b[0m\u001b[0mcollectAndServe\u001b[0m\u001b[1;33m(\u001b[0m\u001b[0mself\u001b[0m\u001b[1;33m.\u001b[0m\u001b[0m_jrdd\u001b[0m\u001b[1;33m.\u001b[0m\u001b[0mrdd\u001b[0m\u001b[1;33m(\u001b[0m\u001b[1;33m)\u001b[0m\u001b[1;33m)\u001b[0m\u001b[1;33m\u001b[0m\u001b[0m\n\u001b[0m\u001b[0;32m    772\u001b[0m         \u001b[1;32mreturn\u001b[0m \u001b[0mlist\u001b[0m\u001b[1;33m(\u001b[0m\u001b[0m_load_from_socket\u001b[0m\u001b[1;33m(\u001b[0m\u001b[0mport\u001b[0m\u001b[1;33m,\u001b[0m \u001b[0mself\u001b[0m\u001b[1;33m.\u001b[0m\u001b[0m_jrdd_deserializer\u001b[0m\u001b[1;33m)\u001b[0m\u001b[1;33m)\u001b[0m\u001b[1;33m\u001b[0m\u001b[0m\n\u001b[0;32m    773\u001b[0m \u001b[1;33m\u001b[0m\u001b[0m\n",
      "\u001b[1;32m/usr/lib/spark/python/lib/py4j-0.9-src.zip/py4j/java_gateway.py\u001b[0m in \u001b[0;36m__call__\u001b[1;34m(self, *args)\u001b[0m\n\u001b[0;32m    809\u001b[0m             \u001b[0mproto\u001b[0m\u001b[1;33m.\u001b[0m\u001b[0mEND_COMMAND_PART\u001b[0m\u001b[1;33m\u001b[0m\u001b[0m\n\u001b[0;32m    810\u001b[0m \u001b[1;33m\u001b[0m\u001b[0m\n\u001b[1;32m--> 811\u001b[1;33m         \u001b[0manswer\u001b[0m \u001b[1;33m=\u001b[0m \u001b[0mself\u001b[0m\u001b[1;33m.\u001b[0m\u001b[0mgateway_client\u001b[0m\u001b[1;33m.\u001b[0m\u001b[0msend_command\u001b[0m\u001b[1;33m(\u001b[0m\u001b[0mcommand\u001b[0m\u001b[1;33m)\u001b[0m\u001b[1;33m\u001b[0m\u001b[0m\n\u001b[0m\u001b[0;32m    812\u001b[0m         return_value = get_return_value(\n\u001b[0;32m    813\u001b[0m             answer, self.gateway_client, self.target_id, self.name)\n",
      "\u001b[1;32m/usr/lib/spark/python/lib/py4j-0.9-src.zip/py4j/java_gateway.py\u001b[0m in \u001b[0;36msend_command\u001b[1;34m(self, command, retry)\u001b[0m\n\u001b[0;32m    624\u001b[0m         \u001b[0mconnection\u001b[0m \u001b[1;33m=\u001b[0m \u001b[0mself\u001b[0m\u001b[1;33m.\u001b[0m\u001b[0m_get_connection\u001b[0m\u001b[1;33m(\u001b[0m\u001b[1;33m)\u001b[0m\u001b[1;33m\u001b[0m\u001b[0m\n\u001b[0;32m    625\u001b[0m         \u001b[1;32mtry\u001b[0m\u001b[1;33m:\u001b[0m\u001b[1;33m\u001b[0m\u001b[0m\n\u001b[1;32m--> 626\u001b[1;33m             \u001b[0mresponse\u001b[0m \u001b[1;33m=\u001b[0m \u001b[0mconnection\u001b[0m\u001b[1;33m.\u001b[0m\u001b[0msend_command\u001b[0m\u001b[1;33m(\u001b[0m\u001b[0mcommand\u001b[0m\u001b[1;33m)\u001b[0m\u001b[1;33m\u001b[0m\u001b[0m\n\u001b[0m\u001b[0;32m    627\u001b[0m             \u001b[0mself\u001b[0m\u001b[1;33m.\u001b[0m\u001b[0m_give_back_connection\u001b[0m\u001b[1;33m(\u001b[0m\u001b[0mconnection\u001b[0m\u001b[1;33m)\u001b[0m\u001b[1;33m\u001b[0m\u001b[0m\n\u001b[0;32m    628\u001b[0m         \u001b[1;32mexcept\u001b[0m \u001b[0mPy4JNetworkError\u001b[0m\u001b[1;33m:\u001b[0m\u001b[1;33m\u001b[0m\u001b[0m\n",
      "\u001b[1;32m/usr/lib/spark/python/lib/py4j-0.9-src.zip/py4j/java_gateway.py\u001b[0m in \u001b[0;36msend_command\u001b[1;34m(self, command)\u001b[0m\n\u001b[0;32m    738\u001b[0m         \u001b[1;32mtry\u001b[0m\u001b[1;33m:\u001b[0m\u001b[1;33m\u001b[0m\u001b[0m\n\u001b[0;32m    739\u001b[0m             \u001b[0mself\u001b[0m\u001b[1;33m.\u001b[0m\u001b[0msocket\u001b[0m\u001b[1;33m.\u001b[0m\u001b[0msendall\u001b[0m\u001b[1;33m(\u001b[0m\u001b[0mcommand\u001b[0m\u001b[1;33m.\u001b[0m\u001b[0mencode\u001b[0m\u001b[1;33m(\u001b[0m\u001b[1;34m\"utf-8\"\u001b[0m\u001b[1;33m)\u001b[0m\u001b[1;33m)\u001b[0m\u001b[1;33m\u001b[0m\u001b[0m\n\u001b[1;32m--> 740\u001b[1;33m             \u001b[0manswer\u001b[0m \u001b[1;33m=\u001b[0m \u001b[0msmart_decode\u001b[0m\u001b[1;33m(\u001b[0m\u001b[0mself\u001b[0m\u001b[1;33m.\u001b[0m\u001b[0mstream\u001b[0m\u001b[1;33m.\u001b[0m\u001b[0mreadline\u001b[0m\u001b[1;33m(\u001b[0m\u001b[1;33m)\u001b[0m\u001b[1;33m[\u001b[0m\u001b[1;33m:\u001b[0m\u001b[1;33m-\u001b[0m\u001b[1;36m1\u001b[0m\u001b[1;33m]\u001b[0m\u001b[1;33m)\u001b[0m\u001b[1;33m\u001b[0m\u001b[0m\n\u001b[0m\u001b[0;32m    741\u001b[0m             \u001b[0mlogger\u001b[0m\u001b[1;33m.\u001b[0m\u001b[0mdebug\u001b[0m\u001b[1;33m(\u001b[0m\u001b[1;34m\"Answer received: {0}\"\u001b[0m\u001b[1;33m.\u001b[0m\u001b[0mformat\u001b[0m\u001b[1;33m(\u001b[0m\u001b[0manswer\u001b[0m\u001b[1;33m)\u001b[0m\u001b[1;33m)\u001b[0m\u001b[1;33m\u001b[0m\u001b[0m\n\u001b[0;32m    742\u001b[0m             \u001b[1;31m# Happens when a the other end is dead. There might be an empty\u001b[0m\u001b[1;33m\u001b[0m\u001b[1;33m\u001b[0m\u001b[0m\n",
      "\u001b[1;32m/home/cloudera/anaconda2/lib/python2.7/socket.pyc\u001b[0m in \u001b[0;36mreadline\u001b[1;34m(self, size)\u001b[0m\n\u001b[0;32m    432\u001b[0m                     \u001b[1;32mtry\u001b[0m\u001b[1;33m:\u001b[0m\u001b[1;33m\u001b[0m\u001b[0m\n\u001b[0;32m    433\u001b[0m                         \u001b[1;32mwhile\u001b[0m \u001b[0mdata\u001b[0m \u001b[1;33m!=\u001b[0m \u001b[1;34m\"\\n\"\u001b[0m\u001b[1;33m:\u001b[0m\u001b[1;33m\u001b[0m\u001b[0m\n\u001b[1;32m--> 434\u001b[1;33m                             \u001b[0mdata\u001b[0m \u001b[1;33m=\u001b[0m \u001b[0mrecv\u001b[0m\u001b[1;33m(\u001b[0m\u001b[1;36m1\u001b[0m\u001b[1;33m)\u001b[0m\u001b[1;33m\u001b[0m\u001b[0m\n\u001b[0m\u001b[0;32m    435\u001b[0m                             \u001b[1;32mif\u001b[0m \u001b[1;32mnot\u001b[0m \u001b[0mdata\u001b[0m\u001b[1;33m:\u001b[0m\u001b[1;33m\u001b[0m\u001b[0m\n\u001b[0;32m    436\u001b[0m                                 \u001b[1;32mbreak\u001b[0m\u001b[1;33m\u001b[0m\u001b[0m\n",
      "\u001b[1;31mKeyboardInterrupt\u001b[0m: "
     ]
    }
   ],
   "source": [
    "%time\n",
    "# convert sequence database to Spark RDD\n",
    "SEQ_DB = \"file:///home/cloudera/cantaloupe/input/small.fasta\"\n",
    "data = sc.textFile(SEQ_DB)\n",
    "\n",
    "# pipe Spark RDD to hmmscan\n",
    "scriptPath = \"/home/cloudera/cantaloupe/src/hmmer.sh\"\n",
    "pipeRDD = data.pipe(scriptPath)\n",
    "\n",
    "# collect result\n",
    "pipeRDD.collect()"
   ]
  },
  {
   "cell_type": "markdown",
   "metadata": {},
   "source": [
    "# 4. Report"
   ]
  },
  {
   "cell_type": "code",
   "execution_count": 27,
   "metadata": {
    "collapsed": false
   },
   "outputs": [
    {
     "name": "stdout",
     "output_type": "stream",
     "text": [
      "#                                                                                                        --- full sequence --- -------------- this domain -------------   hmm coord   ali coord   env coord\r\n",
      "# target name        accession   tlen query name                                       accession   qlen   E-value  score  bias   #  of  c-Evalue  i-Evalue  score  bias  from    to  from    to  from    to  acc description of target\r\n",
      "#------------------- ---------- -----                             -------------------- ---------- ----- --------- ------ ----- --- --- --------- --------- ------ ----- ----- ----- ----- ----- ----- ----- ---- ---------------------\r\n",
      "Ground-like          PF04155.16    73 CAEEL_hedgehog-like_GRounDhog_grd-11_NP_507923.1 -           1021   4.4e-59  196.9  12.4   1   4     6e-20   1.4e-16   60.8   0.8     3    73    52   126    51   126 0.94 Ground-like domain\r\n",
      "Ground-like          PF04155.16    73 CAEEL_hedgehog-like_GRounDhog_grd-11_NP_507923.1 -           1021   4.4e-59  196.9  12.4   2   4   2.4e-21   5.5e-18   65.3   0.0     1    73   262   343   262   343 0.97 Ground-like domain\r\n",
      "Ground-like          PF04155.16    73 CAEEL_hedgehog-like_GRounDhog_grd-11_NP_507923.1 -           1021   4.4e-59  196.9  12.4   3   4   7.5e-18   1.7e-14   54.1   1.7     1    73   410   492   410   492 0.95 Ground-like domain\r\n",
      "Ground-like          PF04155.16    73 CAEEL_hedgehog-like_GRounDhog_grd-11_NP_507923.1 -           1021   4.4e-59  196.9  12.4   4   4     1e-07   0.00024   21.6   0.0    17    55   658   702   648   720 0.81 Ground-like domain\r\n",
      "Hint                 PF01079.18   214 CAEEL_hedgehog-like_GRounDhog_grd-11_NP_507923.1 -           1021   1.1e-45  155.7   0.0   1   1   7.6e-49   1.8e-45  155.0   0.0    11   205   801  1013   799  1018 0.94 Hint module\r\n",
      "Dynein_light         PF01221.16    86 CAEEL_hedgehog-like_GRounDhog_grd-11_NP_507923.1 -           1021   1.2e-05   25.4   7.6   1   4   0.00028      0.66   10.2   0.4    14    85    47   127    39   128 0.82 Dynein light chain type 1\r\n",
      "Dynein_light         PF01221.16    86 CAEEL_hedgehog-like_GRounDhog_grd-11_NP_507923.1 -           1021   1.2e-05   25.4   7.6   2   4    0.0018       4.1    7.6   0.0    35    84   294   343   270   345 0.81 Dynein light chain type 1\r\n",
      "Dynein_light         PF01221.16    86 CAEEL_hedgehog-like_GRounDhog_grd-11_NP_507923.1 -           1021   1.2e-05   25.4   7.6   3   4       2.5   5.9e+03   -2.5   0.5    34    84   441   492   416   493 0.63 Dynein light chain type 1\r\n",
      "Dynein_light         PF01221.16    86 CAEEL_hedgehog-like_GRounDhog_grd-11_NP_507923.1 -           1021   1.2e-05   25.4   7.6   4   4   0.00035      0.82    9.9   0.0    18    86   651   722   645   722 0.79 Dynein light chain type 1\r\n",
      "Hint_2               PF13403.4    143 CAEEL_hedgehog-like_GRounDhog_grd-11_NP_507923.1 -           1021   0.00022   21.4   0.0   1   1   1.8e-07   0.00043   20.5   0.0     1    33   801   833   801   854 0.88 Hint domain\r\n",
      "Mito_fiss_reg        PF05308.9    244 CAEEL_hedgehog-like_GRounDhog_grd-11_NP_507923.1 -           1021      0.68    9.8   2.3   1   1   0.00057       1.3    8.9   2.3   160   194   764   804   745   823 0.45 Mitochondrial fission regulator\r\n",
      "CAP_N                PF01213.17   317 CAEEL_hedgehog-like_GRounDhog_grd-11_NP_507923.1 -           1021       1.7    7.9   3.7   1   1    0.0013       3.1    7.1   3.7   240   260   777   799   742   824 0.53 Adenylate cyclase associated (CAP) N terminal\r\n",
      "PRIMA1               PF16101.3    121 CAEEL_hedgehog-like_GRounDhog_grd-11_NP_507923.1 -           1021       1.9    8.4   6.8   1   1    0.0022       5.1    7.0   6.8    25    42   784   801   766   837 0.74 Proline-rich membrane anchor 1\r\n",
      "#\r\n",
      "# Program:         hmmscan\r\n",
      "# Version:         3.1b2 (February 2015)\r\n",
      "# Pipeline mode:   SCAN\r\n",
      "# Query file:      /tmp/seq\r\n",
      "# Target file:     /home/cloudera/genomics/database/pfam/Pfam-A.hmm\r\n",
      "# Option settings: ./hmmscan -o /tmp/hmmscan-stdout --domtblout ../output/summary-CAEEL_hedgehog-like_GRounDhog_grd-11_NP_507923.1.txt /home/cloudera/genomics/database/pfam/Pfam-A.hmm /tmp/seq \r\n",
      "# Current dir:     /home/cloudera/cantaloupe/src\r\n",
      "# Date:            Fri Aug 26 08:18:29 2016\r\n",
      "# [ok]\r\n",
      "#                                                                            --- full sequence --- -------------- this domain -------------   hmm coord   ali coord   env coord\r\n",
      "# target name        accession   tlen query name           accession   qlen   E-value  score  bias   #  of  c-Evalue  i-Evalue  score  bias  from    to  from    to  from    to  acc description of target\r\n",
      "#------------------- ---------- ----- -------------------- ---------- ----- --------- ------ ----- --- --- --------- --------- ------ ----- ----- ----- ----- ----- ----- ----- ---- ---------------------\r\n",
      "Patched              PF02460.16   811 DROME_PATC_P18502    -           1286   2.5e-49  168.0  15.3   1   2   6.9e-36   3.7e-32  111.2   0.0   155   563   364   793   345   832 0.84 Patched family\r\n",
      "Patched              PF02460.16   811 DROME_PATC_P18502    -           1286   2.5e-49  168.0  15.3   2   2   3.3e-18   1.8e-14   52.7  17.3   611   809   906  1106   896  1108 0.89 Patched family\r\n",
      "Sterol-sensing       PF12349.6    153 DROME_PATC_P18502    -           1286   1.9e-30  105.6  26.8   1   2   1.5e-32   8.3e-29  100.3   5.6     3   151   455   599   453   600 0.96 Sterol-sensing domain of SREBP cleavage-activation\r\n",
      "Sterol-sensing       PF12349.6    153 DROME_PATC_P18502    -           1286   1.9e-30  105.6  26.8   2   2   6.5e-05      0.36   10.5  13.3     7   135   979  1105   972  1109 0.88 Sterol-sensing domain of SREBP cleavage-activation\r\n",
      "MMPL                 PF03176.13   333 DROME_PATC_P18502    -           1286   2.1e-07   30.0  19.7   1   2   5.7e-10   3.1e-06   26.2   3.5   125   304   409   592   382   609 0.81 MMPL family\r\n",
      "MMPL                 PF03176.13   333 DROME_PATC_P18502    -           1286   2.1e-07   30.0  19.7   2   2     8e-05      0.43    9.3   8.3   142   212   953  1022   901  1120 0.75 MMPL family\r\n",
      "#\r\n",
      "# Program:         hmmscan\r\n",
      "# Version:         3.1b2 (February 2015)\r\n",
      "# Pipeline mode:   SCAN\r\n",
      "# Query file:      /tmp/seq\r\n",
      "# Target file:     /home/cloudera/genomics/database/pfam/Pfam-A.hmm\r\n",
      "# Option settings: ./hmmscan -o /tmp/hmmscan-stdout --domtblout ../output/summary-DROME_PATC_P18502.txt /home/cloudera/genomics/database/pfam/Pfam-A.hmm /tmp/seq \r\n",
      "# Current dir:     /home/cloudera/cantaloupe/src\r\n",
      "# Date:            Fri Aug 26 08:18:24 2016\r\n",
      "# [ok]\r\n",
      "#                                                                                        --- full sequence --- -------------- this domain -------------   hmm coord   ali coord   env coord\r\n",
      "# target name        accession   tlen query name                       accession   qlen   E-value  score  bias   #  of  c-Evalue  i-Evalue  score  bias  from    to  from    to  from    to  acc description of target\r\n",
      "#------------------- ---------- -----             -------------------- ---------- ----- --------- ------ ----- --- --- --------- --------- ------ ----- ----- ----- ----- ----- ----- ----- ---- ---------------------\r\n",
      "SUFU_C               PF12470.6    211 DROME_Suppr_of_fused_NP_536750.2 -            468     6e-59  199.4   0.0   1   1   2.2e-62   1.2e-58  198.4   0.0     2   211   250   450   249   450 0.92 Suppressor of Fused Gli/Ci N terminal binding domain\r\n",
      "SUFU                 PF05076.11   172 DROME_Suppr_of_fused_NP_536750.2 -            468   1.1e-46  158.9   0.0   1   1   2.8e-50   1.5e-46  158.4   0.0     1   172    48   237    48   237 0.92 Suppressor of fused protein (SUFU)\r\n",
      "Seadorna_VP6         PF07407.9    420 DROME_Suppr_of_fused_NP_536750.2 -            468      0.15   10.9   0.1   1   1   5.1e-05      0.28   10.0   0.1    75   146   231   304   217   313 0.82 Seadornavirus VP6 protein\r\n",
      "#\r\n",
      "# Program:         hmmscan\r\n",
      "# Version:         3.1b2 (February 2015)\r\n",
      "# Pipeline mode:   SCAN\r\n",
      "# Query file:      /tmp/seq\r\n",
      "# Target file:     /home/cloudera/genomics/database/pfam/Pfam-A.hmm\r\n",
      "# Option settings: ./hmmscan -o /tmp/hmmscan-stdout --domtblout ../output/summary-DROME_Suppr_of_fused_NP_536750.2.txt /home/cloudera/genomics/database/pfam/Pfam-A.hmm /tmp/seq \r\n",
      "# Current dir:     /home/cloudera/cantaloupe/src\r\n",
      "# Date:            Fri Aug 26 08:18:26 2016\r\n",
      "# [ok]\r\n"
     ]
    }
   ],
   "source": [
    "! cat ../output/*.txt"
   ]
  }
 ],
 "metadata": {
  "kernelspec": {
   "display_name": "Python [Root]",
   "language": "python",
   "name": "Python [Root]"
  },
  "language_info": {
   "codemirror_mode": {
    "name": "ipython",
    "version": 2
   },
   "file_extension": ".py",
   "mimetype": "text/x-python",
   "name": "python",
   "nbconvert_exporter": "python",
   "pygments_lexer": "ipython2",
   "version": "2.7.12"
  }
 },
 "nbformat": 4,
 "nbformat_minor": 0
}
